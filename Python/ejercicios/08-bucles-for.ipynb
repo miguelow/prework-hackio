{
 "cells": [
  {
   "cell_type": "markdown",
   "metadata": {},
   "source": [
    "<div style=\"text-align: center;\">\n",
    "  <img src=\"https://github.com/Hack-io-Data/Imagenes/blob/main/01-LogosHackio/logo_celeste@4x.png?raw=true\" alt=\"logo hack(io)\" />\n",
    "</div>"
   ]
  },
  {
   "cell_type": "markdown",
   "metadata": {},
   "source": [
    "####  1. Genera una lista de números del 0 al 4 y luego imprime cada número en la lista usando un `bucle for`. "
   ]
  },
  {
   "cell_type": "code",
   "execution_count": 1,
   "metadata": {},
   "outputs": [
    {
     "name": "stdout",
     "output_type": "stream",
     "text": [
      "0\n",
      "1\n",
      "2\n",
      "3\n",
      "4\n"
     ]
    }
   ],
   "source": [
    "ejemplo = [0, 1, 2, 3, 4]\n",
    "for elem in ejemplo:\n",
    "    print(elem)"
   ]
  },
  {
   "cell_type": "markdown",
   "metadata": {},
   "source": [
    "#### 2. Itera sobre una lista de frutas y muestra cada fruta en mayúsculas. \n"
   ]
  },
  {
   "cell_type": "code",
   "execution_count": 4,
   "metadata": {},
   "outputs": [
    {
     "name": "stdout",
     "output_type": "stream",
     "text": [
      "MANZANAS\n",
      "PLÁTANOS\n",
      "PERAS\n"
     ]
    }
   ],
   "source": [
    "frutas = [\"manzanas\", \"plátanos\", \"peras\"]\n",
    "for fruta in frutas:\n",
    "    print(fruta.upper())"
   ]
  },
  {
   "cell_type": "markdown",
   "metadata": {},
   "source": [
    "####  3. Genera un bucle while que imprima los números del 0 al 4. \n"
   ]
  },
  {
   "cell_type": "code",
   "execution_count": 8,
   "metadata": {},
   "outputs": [
    {
     "name": "stdout",
     "output_type": "stream",
     "text": [
      "1\n",
      "2\n",
      "3\n",
      "4\n"
     ]
    }
   ],
   "source": [
    "contador = 0\n",
    "while contador < 4:\n",
    "    contador += 1\n",
    "    print(contador)"
   ]
  },
  {
   "cell_type": "markdown",
   "metadata": {},
   "source": [
    "#### 4. Genera un bucle del 0 al 9, pero que se detenga en el 5.\n"
   ]
  },
  {
   "cell_type": "code",
   "execution_count": 11,
   "metadata": {},
   "outputs": [
    {
     "name": "stdout",
     "output_type": "stream",
     "text": [
      "1\n",
      "2\n",
      "3\n",
      "4\n",
      "5\n"
     ]
    }
   ],
   "source": [
    "contador2 = 0\n",
    "while contador2 < 9:\n",
    "    contador2 += 1\n",
    "    print(contador2)\n",
    "    if contador2 == 5 :\n",
    "        break"
   ]
  },
  {
   "cell_type": "markdown",
   "metadata": {},
   "source": [
    "#### 5. Recorre los números del 0 al 9 e imprime solo los números impares."
   ]
  },
  {
   "cell_type": "code",
   "execution_count": 12,
   "metadata": {},
   "outputs": [
    {
     "name": "stdout",
     "output_type": "stream",
     "text": [
      "2\n",
      "4\n",
      "6\n",
      "8\n"
     ]
    }
   ],
   "source": [
    "contador3 = 0\n",
    "while contador3 < 9:\n",
    "    contador3 += 1\n",
    "    if contador3 % 2 == 0 :\n",
    "        print(contador3)"
   ]
  },
  {
   "cell_type": "markdown",
   "metadata": {},
   "source": [
    "#### 6. Dada la lista `[10, 20, 30, 40, 50]`, calcula la suma de todos los elementos usando un bucle `for`."
   ]
  },
  {
   "cell_type": "code",
   "execution_count": 13,
   "metadata": {},
   "outputs": [
    {
     "name": "stdout",
     "output_type": "stream",
     "text": [
      "Suma de la lista [10, 20, 30, 40, 50] = 150\n"
     ]
    }
   ],
   "source": [
    "lista2 = [10, 20, 30, 40, 50]\n",
    "resultado = 0\n",
    "for elem in lista2:\n",
    "    resultado += elem\n",
    "\n",
    "print(f\"Suma de la lista {lista2} = {resultado}\")"
   ]
  },
  {
   "cell_type": "markdown",
   "metadata": {},
   "source": [
    "#### 7. Dada la cadena `\"Hola mundo\"`, cuenta cuántas veces aparecen las vocales (`a`, `e`, `i`, `o`, `u`) usando un bucle `for`.\n"
   ]
  },
  {
   "cell_type": "code",
   "execution_count": 16,
   "metadata": {},
   "outputs": [
    {
     "name": "stdout",
     "output_type": "stream",
     "text": [
      "Resultado: {'a': 1, 'e': 0, 'i': 0, 'o': 2, 'u': 1}\n"
     ]
    }
   ],
   "source": [
    "cadena = \"Hola mundo\"\n",
    "\n",
    "vocales = {'a': 0, 'e': 0, 'i': 0, 'o': 0, 'u': 0}\n",
    "\n",
    "for letra in cadena.lower():\n",
    "    if letra in vocales:\n",
    "        vocales[letra] += 1\n",
    "\n",
    "print(f\"Resultado: {vocales}\")\n"
   ]
  },
  {
   "cell_type": "markdown",
   "metadata": {},
   "source": [
    "#### 8. Dada la cadena `\"Python\"`, usa un bucle `for` para imprimir los caracteres en orden inverso (`n`, `o`, `h`, `t`, `y`, `P`).\n"
   ]
  },
  {
   "cell_type": "code",
   "execution_count": 17,
   "metadata": {},
   "outputs": [
    {
     "name": "stdout",
     "output_type": "stream",
     "text": [
      "n\n",
      "o\n",
      "h\n",
      "t\n",
      "y\n",
      "P\n"
     ]
    }
   ],
   "source": [
    "cadena2 = \"Python\"\n",
    "\n",
    "for caracter in cadena2[::-1]:\n",
    "    print(caracter)\n"
   ]
  },
  {
   "cell_type": "markdown",
   "metadata": {},
   "source": [
    "#### 9. Dada la lista `[1, 2, 3, 4, 5]`, multiplica todos sus elementos usando un bucle `for` y almacena los resultados en una lista nueva. \n"
   ]
  },
  {
   "cell_type": "code",
   "execution_count": 19,
   "metadata": {},
   "outputs": [
    {
     "name": "stdout",
     "output_type": "stream",
     "text": [
      "Suma de la lista [1, 2, 3, 4, 5] * 5 = [5, 10, 15, 20, 25]\n"
     ]
    }
   ],
   "source": [
    "lista3 = [1, 2, 3, 4, 5]\n",
    "numero = 5\n",
    "lista_resultado = []\n",
    "for elem in lista3:\n",
    "    lista_resultado.append(elem * numero)\n",
    "\n",
    "print(f\"Multiplicación de la lista {lista3} * {numero} = {lista_resultado}\")"
   ]
  },
  {
   "cell_type": "markdown",
   "metadata": {},
   "source": [
    "#### 10. Dada la lista `[1, 2, 3, 4, 5, 6, 7, 8, 9, 10]`, utiliza un bucle `for` para contar cuántos números son pares y cuántos son impares."
   ]
  },
  {
   "cell_type": "code",
   "execution_count": 20,
   "metadata": {},
   "outputs": [
    {
     "name": "stdout",
     "output_type": "stream",
     "text": [
      "La lista [1, 2, 3, 4, 5, 6, 7, 8, 9, 10] cuenta con 5 elementos pares y 5 elementos impares\n"
     ]
    }
   ],
   "source": [
    "lista4 = [1, 2, 3, 4, 5, 6, 7, 8, 9, 10]\n",
    "contador_par = 0\n",
    "contador_impar = 0\n",
    "\n",
    "for elem in lista4:\n",
    "    if elem % 2 == 0:\n",
    "        contador_par += 1\n",
    "    else:\n",
    "        contador_impar += 1\n",
    "\n",
    "print(f\"La lista {lista4} cuenta con {contador_par} elementos pares y {contador_impar} elementos impares\")"
   ]
  },
  {
   "cell_type": "markdown",
   "metadata": {},
   "source": [
    "#### 11. Escribe un programa que solicite al usuario un número entero positivo (`n`) y calcule la suma de todos los números primos menores o iguales a `n`. Utiliza un bucle `for` para iterar sobre cada número y verifica si es primo."
   ]
  },
  {
   "cell_type": "code",
   "execution_count": 4,
   "metadata": {},
   "outputs": [
    {
     "name": "stdout",
     "output_type": "stream",
     "text": [
      "Suma de los primos menores o iguales a 5 : 10\n"
     ]
    }
   ],
   "source": [
    "n = int(input(\"Introduce un número entero positivo: \"))\n",
    "suma_primos = 0\n",
    "\n",
    "def es_primo(num):\n",
    "    if num <= 1:  \n",
    "        return False\n",
    "    for i in range(2, num):  \n",
    "        if num % i == 0:  \n",
    "            return False\n",
    "    return True  \n",
    "\n",
    "for num in range(2, n + 1):\n",
    "    if es_primo(num):  \n",
    "        suma_primos += num\n",
    "\n",
    "print(\"Suma de los primos menores o iguales a\", n, \":\", suma_primos)"
   ]
  },
  {
   "cell_type": "markdown",
   "metadata": {},
   "source": [
    "#### 12. Escribe un programa que solicite al usuario un número entero positivo (`n`) y luego imprima un patrón de asteriscos como el siguiente ejemplo para `n = 5`:\n",
    "```\n",
    "*\n",
    "**\n",
    "***\n",
    "****\n",
    "*****\n",
    "```\n",
    "Utiliza un bucle `for` anidado para controlar la cantidad de asteriscos en cada línea."
   ]
  },
  {
   "cell_type": "code",
   "execution_count": 22,
   "metadata": {},
   "outputs": [
    {
     "name": "stdout",
     "output_type": "stream",
     "text": [
      "Introduce un número entero positivo: \n",
      "\n",
      "*\n",
      "**\n",
      "***\n",
      "****\n",
      "*****\n"
     ]
    }
   ],
   "source": [
    "print('Introduce un número entero positivo: ')\n",
    "numero_input = int(input())\n",
    "conteo = 0\n",
    "\n",
    "while conteo <= numero_input:\n",
    "    print(\"*\" * conteo)\n",
    "    conteo += 1"
   ]
  },
  {
   "cell_type": "markdown",
   "metadata": {},
   "source": [
    "#### 13. Dado un texto, utiliza un bucle `for` para contar cuántas veces aparece cada palabra en el texto. Ignora mayúsculas/minúsculas y los signos de puntuación."
   ]
  },
  {
   "cell_type": "code",
   "execution_count": 19,
   "metadata": {},
   "outputs": [
    {
     "name": "stdout",
     "output_type": "stream",
     "text": [
      "Frecuencia de letras: {'p': 2, 'e': 2}\n"
     ]
    }
   ],
   "source": [
    "import string\n",
    "\n",
    "texto = input(\"Ingresa un texto: \")\n",
    "texto_limpio = texto.lower().translate(str.maketrans('', '', string.punctuation))\n",
    "letras = {}\n",
    "\n",
    "for letra in texto_limpio:\n",
    "    if letra in letras:\n",
    "        letras[letra] += 1\n",
    "    else:\n",
    "        letras[letra] = 1\n",
    "\n",
    "print(\"Frecuencia de letras:\", letras)\n"
   ]
  },
  {
   "cell_type": "markdown",
   "metadata": {},
   "source": [
    "#### 14. Escribe un programa que solicite al usuario dos números enteros positivos (`inicio` y `fin`, donde `inicio <= fin`) y luego calcule la suma de los números pares y la suma de los números impares en ese rango. Utiliza un bucle `for` para iterar sobre cada número y una estructura `if-else` para clasificar y sumar los números pares e impares."
   ]
  },
  {
   "cell_type": "code",
   "execution_count": 16,
   "metadata": {},
   "outputs": [
    {
     "name": "stdout",
     "output_type": "stream",
     "text": [
      "2\n",
      "6\n",
      "12\n",
      "20\n",
      "30\n",
      "Suma de números pares entre 1 y 10: 30\n",
      "Suma de números impares entre 1 y 10: 25\n"
     ]
    }
   ],
   "source": [
    "inicio = int(input(\"Ingresa el número de inicio, entero positivo: \"))\n",
    "fin = int(input(\"Ingresa el número de fin, mayor que el inicio y entero positivo: \"))\n",
    "\n",
    "suma_pares = 0\n",
    "suma_impares = 0\n",
    "\n",
    "for num in range(inicio, fin + 1):\n",
    "    if num % 2 == 0:\n",
    "        suma_pares += num\n",
    "        print(suma_pares)\n",
    "    else:\n",
    "        suma_impares += num\n",
    "\n",
    "print(f\"Suma de números pares entre {inicio} y {fin}: {suma_pares}\")\n",
    "print(f\"Suma de números impares entre {inicio} y {fin}: {suma_impares}\")\n"
   ]
  },
  {
   "cell_type": "markdown",
   "metadata": {},
   "source": [
    "#### 15. Escribe un programa que solicite al usuario un número entero positivo (`n`) y luego identifique todos los números primos menores o iguales a `n`. Para cada número, imprime si es primo o no usando un bucle `for` y una estructura `if-else` para verificar la condición de primalidad."
   ]
  },
  {
   "cell_type": "code",
   "execution_count": 3,
   "metadata": {},
   "outputs": [
    {
     "name": "stdout",
     "output_type": "stream",
     "text": [
      "Números primos menores o iguales a 20 : [2, 3, 5, 7, 11, 13, 17, 19]\n"
     ]
    }
   ],
   "source": [
    "n = int(input(\"Introduce un número entero positivo: \"))\n",
    "primos = [] \n",
    "\n",
    "def es_primo(num):\n",
    "    if num <= 1:  \n",
    "        return False\n",
    "    for i in range(2, num):  \n",
    "        if num % i == 0:  \n",
    "            return False\n",
    "    return True  \n",
    "\n",
    "for num in range(2, n + 1):\n",
    "    if es_primo(num):  \n",
    "        primos.append(num)\n",
    "\n",
    "print(\"Primos menores o iguales a\", n, \":\", primos)\n",
    "\n"
   ]
  },
  {
   "cell_type": "markdown",
   "metadata": {},
   "source": [
    "#### 16.Dada una lista de precios `[100, 200, 300, 400, 500]`, aplica un descuento del 10% a todos los precios mayores a `250`. Imprime la lista actualizada de precios después de aplicar el descuento utilizando un bucle `for`. "
   ]
  },
  {
   "cell_type": "code",
   "execution_count": 10,
   "metadata": {},
   "outputs": [
    {
     "name": "stdout",
     "output_type": "stream",
     "text": [
      "[100, 200, 270.0, 360.0, 450.0]\n"
     ]
    }
   ],
   "source": [
    "precios = [100, 200, 300, 400, 500]\n",
    "\n",
    "for i in range(len(precios)):\n",
    "    if precios[i] > 250:\n",
    "        precios[i] *= 0.9\n",
    "\n",
    "print(precios)"
   ]
  },
  {
   "cell_type": "markdown",
   "metadata": {},
   "source": [
    "#### 17. Dada una lista de calificaciones de estudiantes `[85, 92, 78, 90, 88]`, clasifica a cada estudiante como \"Aprobado\" si la calificación es mayor o igual a `80` y como \"Reprobado\" si es menor a `80`. Imprime el nombre de cada estudiante junto con su estado utilizando un bucle `for` y una estructura `if-else`.\n"
   ]
  },
  {
   "cell_type": "code",
   "execution_count": 7,
   "metadata": {},
   "outputs": [
    {
     "name": "stdout",
     "output_type": "stream",
     "text": [
      "{85: 'Aprobado', 92: 'Aprobado', 78: 'Reprobado', 90: 'Aprobado', 88: 'Aprobado'}\n"
     ]
    }
   ],
   "source": [
    "calificaciones = [85, 92, 78, 90, 88]\n",
    "resultados = {}\n",
    "\n",
    "for i in calificaciones:\n",
    "    if i >= 80:\n",
    "        resultados[i] = \"Aprobado\"\n",
    "    else:\n",
    "        resultados[i] = \"Reprobado\"\n",
    "\n",
    "print(resultados)\n"
   ]
  },
  {
   "cell_type": "markdown",
   "metadata": {},
   "source": [
    "\n",
    "#### 18. Escribe un programa que solicite al usuario dos números enteros positivos (`inicio`, `fin`) y otro número entero positivo (`divisor`). Encuentra el número más grande en el rango desde `inicio` hasta `fin` que sea divisible por `divisor`. Utiliza un bucle `for` y una estructura `if-else` para verificar y mantener el registro del número más grande divisible por el divisor dado.\n"
   ]
  },
  {
   "cell_type": "code",
   "execution_count": 3,
   "metadata": {},
   "outputs": [
    {
     "name": "stdout",
     "output_type": "stream",
     "text": [
      "El mayor numero del rango divisible entre 30 es 90.\n"
     ]
    }
   ],
   "source": [
    "inicio = int(input(\"Introduce número entero positivo, inicio de rango:\"))\n",
    "fin = int(input(\"Introduce número entero positivo, fin de rango:\"))\n",
    "divisor = int(input(\"Introduce número entero positivo, divisor:\"))\n",
    "\n",
    "for i in range(fin, inicio -1, -1):\n",
    "    if i % divisor == 0: \n",
    "        print(f\"El mayor numero entre {inicio} y {fin} divisible entre {divisor} es {i}.\")\n",
    "        found = True\n",
    "        break"
   ]
  }
 ],
 "metadata": {
  "kernelspec": {
   "display_name": "hackio",
   "language": "python",
   "name": "python3"
  },
  "language_info": {
   "codemirror_mode": {
    "name": "ipython",
    "version": 3
   },
   "file_extension": ".py",
   "mimetype": "text/x-python",
   "name": "python",
   "nbconvert_exporter": "python",
   "pygments_lexer": "ipython3",
   "version": "3.12.4"
  }
 },
 "nbformat": 4,
 "nbformat_minor": 2
}
