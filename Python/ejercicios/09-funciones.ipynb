{
 "cells": [
  {
   "cell_type": "markdown",
   "metadata": {},
   "source": [
    "\n",
    "<div style=\"text-align: center;\">\n",
    "  <img src=\"https://github.com/Hack-io-Data/Imagenes/blob/main/01-LogosHackio/logo_celeste@4x.png?raw=true\" alt=\"esquema\" />\n",
    "</div>"
   ]
  },
  {
   "cell_type": "markdown",
   "metadata": {},
   "source": [
    "#### 1. Escribe una función sin parámetros que imprima el siguiente mensaje \"¡Hola! Bienvenido.\"\n"
   ]
  },
  {
   "cell_type": "code",
   "execution_count": 1,
   "metadata": {},
   "outputs": [
    {
     "name": "stdout",
     "output_type": "stream",
     "text": [
      "¡Hola! Bienvenido.\n"
     ]
    }
   ],
   "source": [
    "def say_hello():\n",
    "    print(\"¡Hola! Bienvenido.\")\n",
    "\n",
    "say_hello()\n"
   ]
  },
  {
   "cell_type": "markdown",
   "metadata": {},
   "source": [
    "#### 2. Escribe una función que reciba dos parámetros y devuelva la suma de ambos.\n"
   ]
  },
  {
   "cell_type": "code",
   "execution_count": 2,
   "metadata": {},
   "outputs": [
    {
     "data": {
      "text/plain": [
       "6"
      ]
     },
     "execution_count": 2,
     "metadata": {},
     "output_type": "execute_result"
    }
   ],
   "source": [
    "def sum_2_numbers(x, y):\n",
    "    return x + y\n",
    "\n",
    "sum_2_numbers(2,4)"
   ]
  },
  {
   "cell_type": "markdown",
   "metadata": {},
   "source": [
    "#### 3. Escribe una función que reciba un número y devuelva True si es par, False si no lo es."
   ]
  },
  {
   "cell_type": "code",
   "execution_count": 4,
   "metadata": {},
   "outputs": [
    {
     "data": {
      "text/plain": [
       "False"
      ]
     },
     "execution_count": 4,
     "metadata": {},
     "output_type": "execute_result"
    }
   ],
   "source": [
    "def even_or_odd(num):\n",
    "    if num % 2 == 0:\n",
    "        return True\n",
    "    return False\n",
    "\n",
    "even_or_odd(5)"
   ]
  },
  {
   "cell_type": "markdown",
   "metadata": {},
   "source": [
    "#### 4. Escribe un función que devuelva un saludo personalizado a una persona dado su nombre. \n"
   ]
  },
  {
   "cell_type": "code",
   "execution_count": 6,
   "metadata": {},
   "outputs": [
    {
     "name": "stdout",
     "output_type": "stream",
     "text": [
      "Bienvenido pepe !!!!\n"
     ]
    }
   ],
   "source": [
    "name = input(\"Ingresa tu nombre: \")\n",
    "\n",
    "def saludar(name):\n",
    "    print(f\"Bienvenido {name} !!!!\")\n",
    "\n",
    "saludar(name)\n",
    "\n",
    "\n"
   ]
  },
  {
   "cell_type": "markdown",
   "metadata": {},
   "source": [
    "#### 5. Escribe una función que sume todos los números que reciba como argumento. La función debe recibir una cantidad variable de argumentos y devolver la suma de todos ellos."
   ]
  },
  {
   "cell_type": "code",
   "execution_count": 1,
   "metadata": {},
   "outputs": [
    {
     "name": "stdout",
     "output_type": "stream",
     "text": [
      "6\n",
      "3\n"
     ]
    }
   ],
   "source": [
    "def sumar(*args):\n",
    "    return sum(args)\n",
    "\n",
    "print(sumar(1, 2))\n",
    "print(sumar(1, 2, 3))\n"
   ]
  },
  {
   "cell_type": "markdown",
   "metadata": {},
   "source": [
    "#### 6. Escribe una función que cuente las letras de una palabra y devuelva un diccionario con la cantidad de veces que se repite cada letra \n"
   ]
  },
  {
   "cell_type": "code",
   "execution_count": 4,
   "metadata": {},
   "outputs": [
    {
     "name": "stdout",
     "output_type": "stream",
     "text": [
      "{'k': 2, 'i': 2, 'o': 1, 'r': 2, 'v': 1, 'e': 1, 'a': 1}\n"
     ]
    }
   ],
   "source": [
    "def contar_letras_palabra(word):\n",
    "    letras = {}\n",
    "    for letra in word.lower():\n",
    "        if letra in letras:\n",
    "            letras[letra] += 1\n",
    "        else:\n",
    "            letras[letra] = 1\n",
    "    return (letras)\n",
    "\n",
    "print(contar_letras_palabra(\"kikorivera\"))\n"
   ]
  },
  {
   "cell_type": "markdown",
   "metadata": {},
   "source": [
    "#### 7. Escribe un función recursiva para calcular el factorial de un número entero no negativo."
   ]
  },
  {
   "cell_type": "code",
   "execution_count": 7,
   "metadata": {},
   "outputs": [
    {
     "data": {
      "text/plain": [
       "4"
      ]
     },
     "execution_count": 7,
     "metadata": {},
     "output_type": "execute_result"
    }
   ],
   "source": [
    "def factorial(n):\n",
    "    if n == 0:\n",
    "        return 1\n",
    "    else:\n",
    "        return n * factorial(n - 1)\n",
    "    \n",
    "print(factorial(4))\n"
   ]
  },
  {
   "cell_type": "markdown",
   "metadata": {},
   "source": [
    "#### 8. Escribe una función que tome dos parámetros: `figura` (una cadena que puede ser `\"rectangulo\"`, `\"circulo\"` o `\"triangulo\"`) y `datos` (una tupla con los datos necesarios para calcular el área de la figura). "
   ]
  },
  {
   "cell_type": "code",
   "execution_count": 12,
   "metadata": {},
   "outputs": [
    {
     "name": "stdout",
     "output_type": "stream",
     "text": [
      "50\n",
      "153.93804002589985\n",
      "16.0\n"
     ]
    }
   ],
   "source": [
    "import math\n",
    "\n",
    "def calc_area(figura, datos):\n",
    "    match figura:\n",
    "        case \"rectangulo\":\n",
    "            base, altura = datos\n",
    "            return base * altura\n",
    "\n",
    "        case \"circulo\":\n",
    "            radio = datos[0]\n",
    "            return math.pi * (radio ** 2)\n",
    "\n",
    "        case \"triangulo\":\n",
    "            base, altura = datos\n",
    "            return (base * altura) / 2\n",
    "\n",
    "        case _:\n",
    "            return \"Introduzca una de las 3 figuras, rectangulo, circulo, triangulo\"\n",
    "\n",
    "print(calc_area(\"rectangulo\", (5, 10))) \n",
    "print(calc_area(\"circulo\", (7,)))       \n",
    "print(calc_area(\"triangulo\", (8, 4)))   \n",
    "\n",
    "\n"
   ]
  },
  {
   "cell_type": "markdown",
   "metadata": {},
   "source": [
    "#### 9. Escribe una función que tome una lista de números como parámetro y devuelva el número más grande de la lista. No utilices la función `max()` de Python en tu solución."
   ]
  },
  {
   "cell_type": "code",
   "execution_count": 14,
   "metadata": {},
   "outputs": [
    {
     "name": "stdout",
     "output_type": "stream",
     "text": [
      "500\n"
     ]
    }
   ],
   "source": [
    "def maximo_valor_lista(lista):\n",
    "    maximo = lista[0]\n",
    "    \n",
    "    for numero in lista:\n",
    "        if numero > maximo:\n",
    "            maximo = numero\n",
    "    \n",
    "    return maximo\n",
    "\n",
    "lista = [1, 2, 500, 7, 100]\n",
    "print(maximo_valor_lista(lista))\n",
    "\n"
   ]
  },
  {
   "cell_type": "markdown",
   "metadata": {},
   "source": [
    "#### 10. Escribe una función que tome una cadena como parámetro un texto y devuelva `True` si la cadena es un palíndromo (se lee igual de izquierda a derecha que de derecha a izquierda), y `False` en caso contrario. Ignora los espacios y considera mayúsculas y minúsculas de manera insensible.\n"
   ]
  },
  {
   "cell_type": "code",
   "execution_count": 15,
   "metadata": {},
   "outputs": [
    {
     "name": "stdout",
     "output_type": "stream",
     "text": [
      "False\n",
      "True\n"
     ]
    }
   ],
   "source": [
    "def palindromo(texto):\n",
    "\n",
    "    texto_limpio = texto.replace(\" \", \"\").lower()\n",
    "    \n",
    "    for i in range(len(texto_limpio) // 2):\n",
    "        if texto_limpio[i] != texto_limpio[-(i + 1)]:\n",
    "            return False\n",
    "    return True \n",
    "\n",
    "print(palindromo(\"Hola mundo\"))\n",
    "print(palindromo(\"Reconocer\"))\n"
   ]
  },
  {
   "cell_type": "markdown",
   "metadata": {},
   "source": [
    "#### 11. Escribe una función que tome una cadena como parámetro y devuelva dos valores: la cantidad de vocales y la cantidad de consonantes presentes en la cadena. Ignora los espacios y considera mayúsculas y minúsculas de manera insensible.\n"
   ]
  },
  {
   "cell_type": "code",
   "execution_count": 16,
   "metadata": {},
   "outputs": [
    {
     "name": "stdout",
     "output_type": "stream",
     "text": [
      "{'vocales': 3, 'consonantes': 5}\n"
     ]
    }
   ],
   "source": [
    "def vocales_y_consonantes(cadena):\n",
    "    cadena = cadena.lower().replace(\" \", \"\")\n",
    "    \n",
    "    vocales = \"aeiou\"\n",
    "    \n",
    "    conteo = {'vocales': 0, 'consonantes': 0}\n",
    "    \n",
    "    for caracter in cadena:\n",
    "        if caracter in vocales:\n",
    "            conteo['vocales'] += 1\n",
    "        else: conteo['consonantes'] += 1\n",
    "    \n",
    "    return conteo\n",
    "\n",
    "print(vocales_y_consonantes(\"pakirrin\"))\n"
   ]
  }
 ],
 "metadata": {
  "kernelspec": {
   "display_name": "hackio",
   "language": "python",
   "name": "python3"
  },
  "language_info": {
   "codemirror_mode": {
    "name": "ipython",
    "version": 3
   },
   "file_extension": ".py",
   "mimetype": "text/x-python",
   "name": "python",
   "nbconvert_exporter": "python",
   "pygments_lexer": "ipython3",
   "version": "3.12.4"
  }
 },
 "nbformat": 4,
 "nbformat_minor": 2
}
