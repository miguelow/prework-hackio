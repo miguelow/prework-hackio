{
 "cells": [
  {
   "cell_type": "markdown",
   "metadata": {},
   "source": [
    "<div style=\"text-align: center;\">\n",
    "  <img src=\"https://github.com/Hack-io-Data/Imagenes/blob/main/01-LogosHackio/logo_celeste@4x.png?raw=true\" alt=\"logo hack(io)\" />\n",
    "</div>"
   ]
  },
  {
   "cell_type": "markdown",
   "metadata": {},
   "source": [
    "#### 1. Escribe un programa que determine si un número es par o impar.\n",
    "\n"
   ]
  },
  {
   "cell_type": "code",
   "execution_count": 1,
   "metadata": {},
   "outputs": [
    {
     "name": "stdout",
     "output_type": "stream",
     "text": [
      "Numero introducido impar\n"
     ]
    }
   ],
   "source": [
    "def even_or_odd(numero):\n",
    "    if numero % 2 == 0:\n",
    "        return \"Numero introducido par\"\n",
    "    else:\n",
    "        return \"Numero introducido impar\"\n",
    "\n",
    "numero = int(input(\"Introduce un número mayor que 0\"))\n",
    "\n",
    "resultado = even_or_odd(numero)\n",
    "print(resultado)"
   ]
  },
  {
   "cell_type": "markdown",
   "metadata": {},
   "source": [
    "#### 2. Genera un programa que nos diga si es de noche, de día o tarde según la hora proporcionada por el usuario."
   ]
  },
  {
   "cell_type": "code",
   "execution_count": 6,
   "metadata": {},
   "outputs": [
    {
     "name": "stdout",
     "output_type": "stream",
     "text": [
      "Tarde\n"
     ]
    }
   ],
   "source": [
    "def time_of_day(hour):\n",
    "    if 0 <= hora < 6:\n",
    "        return \"Noche\"\n",
    "    elif 6 <= hora < 12:\n",
    "        return \"Mañana\"\n",
    "    elif 12 <= hora < 18:\n",
    "        return \"Tarde\"\n",
    "    elif 18 <= hora <= 24:\n",
    "        return \"Noche\"\n",
    "\n",
    "hora = int(input(\"Introduce la hora 1 al 24\"))\n",
    "\n",
    "resultado = time_of_day(hora)\n",
    "print(resultado)\n"
   ]
  },
  {
   "cell_type": "markdown",
   "metadata": {},
   "source": [
    "#### 3. Dado un nombre imprime un saludo personalizado."
   ]
  },
  {
   "cell_type": "code",
   "execution_count": 9,
   "metadata": {},
   "outputs": [
    {
     "name": "stdout",
     "output_type": "stream",
     "text": [
      "Bienvenido pepe, que tengas un buen día!\n"
     ]
    }
   ],
   "source": [
    "name = input(\"Introduce tu nombre\")\n",
    "\n",
    "print(f\"Bienvenido {name}, que tengas un buen día!\")"
   ]
  },
  {
   "cell_type": "markdown",
   "metadata": {},
   "source": [
    "#### 4. Escribe un programa que determine qué calificación en texto tiene un alumno en base a su calificación numérica. Las reglas de calificación son: \n",
    "\n",
    "- 0 - 69 insuficiente\n",
    "\n",
    "- 70 - 79 bien\n",
    "\n",
    "- 80 - 89 muy bien\n",
    "\n",
    "- 90 - 100 excelente\n"
   ]
  },
  {
   "cell_type": "code",
   "execution_count": 11,
   "metadata": {},
   "outputs": [
    {
     "name": "stdout",
     "output_type": "stream",
     "text": [
      "Calificación: Insuficiente\n"
     ]
    }
   ],
   "source": [
    "def grade(calificacion):\n",
    "    if 0 <= calificacion <= 69:\n",
    "        return \"Insuficiente\"\n",
    "    elif 70 <= calificacion <= 79:\n",
    "        return \"Bien\"\n",
    "    elif 80 <= calificacion <= 89:\n",
    "        return \"Muy bien\"\n",
    "    elif 90 <= calificacion <= 100:\n",
    "        return \"Excelente\"\n",
    "    else:\n",
    "        return \"Introduzca una calificación en el rango de 0 a 100\"\n",
    "\n",
    "calificacion = int(input(\"Introduzca su calificación de 0 a 100\"))\n",
    "\n",
    "resultado = grade(calificacion)\n",
    "print(f\"Calificación: {resultado}\")\n"
   ]
  },
  {
   "cell_type": "markdown",
   "metadata": {},
   "source": [
    "#### 5. Escribe un programa que imprima el día de la semana, dado un número del 1 al 7.\n"
   ]
  },
  {
   "cell_type": "code",
   "execution_count": 13,
   "metadata": {},
   "outputs": [
    {
     "name": "stdout",
     "output_type": "stream",
     "text": [
      "El día 7 corresponde a Domingo\n"
     ]
    }
   ],
   "source": [
    "def day_of_week(numero):\n",
    "    match numero:\n",
    "        case 1:\n",
    "            return \"Lunes\"\n",
    "        case 2:\n",
    "            return \"Martes\"\n",
    "        case 3:\n",
    "            return \"Miércoles\"\n",
    "        case 4:\n",
    "            return \"Jueves\"\n",
    "        case 5:\n",
    "            return \"Viernes\"\n",
    "        case 6:\n",
    "            return \"Sábado\"\n",
    "        case 7:\n",
    "            return \"Domingo\"\n",
    "        case _:\n",
    "            return \"Introduzca una número en el rango de 1 al 7\"\n",
    "\n",
    "numero = int(input(\"Introduce un número del 1 al 7: \"))\n",
    "\n",
    "dia_semana = day_of_week(numero)\n",
    "print(f\"El día {numero} corresponde a {dia_semana}\")\n"
   ]
  },
  {
   "cell_type": "code",
   "execution_count": null,
   "metadata": {},
   "outputs": [],
   "source": []
  },
  {
   "cell_type": "markdown",
   "metadata": {},
   "source": [
    "#### 6. Escribe un programa que determine si un número es positivo, negativo o cero."
   ]
  },
  {
   "cell_type": "code",
   "execution_count": 16,
   "metadata": {},
   "outputs": [
    {
     "name": "stdout",
     "output_type": "stream",
     "text": [
      "El número introducido es cero\n"
     ]
    }
   ],
   "source": [
    "def number_sign(numero):\n",
    "    if numero > 0:\n",
    "        return \"positivo\"\n",
    "    elif numero < 0:\n",
    "        return \"negativo\"\n",
    "    else:\n",
    "        return \"cero\"\n",
    "\n",
    "numero = int(input(\"Introduce cualquier número entero \"))\n",
    "\n",
    "resultado = number_sign(numero)\n",
    "print(f\"El número introducido es {resultado}\")\n"
   ]
  },
  {
   "cell_type": "markdown",
   "metadata": {},
   "source": [
    "#### 7. Escribe un programa que determine si una persona puede conducir o no. La edad mínima para conducir es 18 años. \n"
   ]
  },
  {
   "cell_type": "code",
   "execution_count": 18,
   "metadata": {},
   "outputs": [
    {
     "name": "stdout",
     "output_type": "stream",
     "text": [
      "Puede conducir\n"
     ]
    }
   ],
   "source": [
    "def can_drive(numero):\n",
    "    if numero >= 18:\n",
    "        return \"Puede conducir\"\n",
    "    else:\n",
    "        return \"No puede conducir\"\n",
    "\n",
    "numero = int(input(\"Introduce tu edad\"))\n",
    "\n",
    "resultado = can_drive(numero)\n",
    "print(resultado)\n"
   ]
  },
  {
   "cell_type": "markdown",
   "metadata": {},
   "source": [
    "#### 8. Escribe un programa que determine si un estudiante aprobó o suspendió un examen."
   ]
  },
  {
   "cell_type": "code",
   "execution_count": 19,
   "metadata": {},
   "outputs": [
    {
     "name": "stdout",
     "output_type": "stream",
     "text": [
      "Suspenso\n"
     ]
    }
   ],
   "source": [
    "def pass_or_fail(numero):\n",
    "    if numero >= 5:\n",
    "        return \"Aprobado\"\n",
    "    else:\n",
    "        return \"Suspenso\"\n",
    "\n",
    "grade = int(input(\"Introduce tu nota\"))\n",
    "\n",
    "resultado = pass_or_fail(grade)\n",
    "print(resultado)\n"
   ]
  },
  {
   "cell_type": "markdown",
   "metadata": {},
   "source": [
    "#### 9. Escribe un programa que determine si un número es múltiplo de 3 y 5.\n"
   ]
  },
  {
   "cell_type": "code",
   "execution_count": 22,
   "metadata": {},
   "outputs": [
    {
     "name": "stdout",
     "output_type": "stream",
     "text": [
      "Si es múltiplo de 3 y 5\n"
     ]
    }
   ],
   "source": [
    "\n",
    "def multiple_3_and_5(numero):\n",
    "    if numero % 3 == 0 and numero % 5 == 0:\n",
    "        return \"Si\"\n",
    "    else:\n",
    "        return \"No\"\n",
    "\n",
    "number = int(input(\"Introduce el número\"))\n",
    "\n",
    "resultado = multiple_3_and_5(grade)\n",
    "print(f\"{resultado} es múltiplo de 3 y 5\")"
   ]
  },
  {
   "cell_type": "markdown",
   "metadata": {},
   "source": [
    "#### 10. Escribe un programa que determine si un número es par o impar.\n"
   ]
  },
  {
   "cell_type": "code",
   "execution_count": null,
   "metadata": {},
   "outputs": [],
   "source": [
    "#Ejercicio repetido, es el mismo que el primero"
   ]
  }
 ],
 "metadata": {
  "kernelspec": {
   "display_name": "hackio",
   "language": "python",
   "name": "python3"
  },
  "language_info": {
   "codemirror_mode": {
    "name": "ipython",
    "version": 3
   },
   "file_extension": ".py",
   "mimetype": "text/x-python",
   "name": "python",
   "nbconvert_exporter": "python",
   "pygments_lexer": "ipython3",
   "version": "3.12.4"
  }
 },
 "nbformat": 4,
 "nbformat_minor": 2
}
