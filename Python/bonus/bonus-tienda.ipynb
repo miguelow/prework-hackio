{
 "cells": [
  {
   "cell_type": "markdown",
   "metadata": {},
   "source": [
    "<div style=\"text-align: center;\">\n",
    "  <img src=\"https://github.com/Hack-io-Data/Imagenes/blob/main/01-LogosHackio/logo_celeste@4x.png?raw=true\" alt=\"esquema\" />\n",
    "</div>\n"
   ]
  },
  {
   "cell_type": "markdown",
   "metadata": {},
   "source": [
    "En este ejercicio, se te pedirá que escribas un programa en Python que utilice condicionales para determinar el monto final de una compra en una tienda en línea, después de aplicar un descuento. El programa debe hacer lo siguiente:\n",
    "\n",
    "1. Solicita al usuario que ingrese el precio original de un artículo.\n",
    "\n",
    "2. Pregunta al usuario si tiene un cupón de descuento (respuesta sí o no).\n",
    "\n",
    "3. Si el usuario responde que sí, solicita que ingrese el valor del cupón de descuento.\n",
    "\n",
    "4. Aplica el descuento al precio original del artículo, siempre y cuando el valor del cupón sea válido (es decir, mayor a cero). Por ejemplo, descuento de 15€. \n",
    "\n",
    "5. Muestra el precio final de la compra, teniendo en cuenta el descuento aplicado o sin él. \n",
    "\n",
    "6. Recuerda utilizar estructuras de control de flujo como if, elif y else para llevar a cabo estas acciones en tu programa de Python."
   ]
  },
  {
   "cell_type": "code",
   "execution_count": 11,
   "metadata": {},
   "outputs": [
    {
     "name": "stdout",
     "output_type": "stream",
     "text": [
      "Precio final: 0.9899999999999984€\n"
     ]
    }
   ],
   "source": [
    "precio_original = float(input(\"Ingrese el precio del artículo: \"))\n",
    "tiene_cupon = input(\"¿Tiene un cupón? (Si o No): \").lower()\n",
    "\n",
    "if tiene_cupon == \"si\":\n",
    "    valor_cupon = float(input(\"Ingrese el valor del cupón: \"))\n",
    "    if valor_cupon > 0:\n",
    "        precio_final = precio_original - valor_cupon\n",
    "        if precio_final < 0:\n",
    "            precio_final = 0\n",
    "    else:\n",
    "        precio_final = precio_original\n",
    "else:\n",
    "    precio_final = precio_original\n",
    "\n",
    "print(f\"Precio final: {precio_final:.2f}€\")\n"
   ]
  },
  {
   "cell_type": "markdown",
   "metadata": {},
   "source": [
    "Modifica el programa anterior para que el usuario ingrese un porcentaje de descuento en lugar de un valor fijo (por ejemplo, 30%). Aplica el descuento en base al porcentaje ingresado."
   ]
  },
  {
   "cell_type": "code",
   "execution_count": 12,
   "metadata": {},
   "outputs": [
    {
     "name": "stdout",
     "output_type": "stream",
     "text": [
      "Precio final: 15.05€\n"
     ]
    }
   ],
   "source": [
    "precio_original = float(input(\"Ingrese el precio del artículo: \"))\n",
    "tiene_cupon = input(\"Tienes un cupón? (Si o No): \").lower()\n",
    "\n",
    "if tiene_cupon == \"si\":\n",
    "    porcentaje_descuento = float(input(\"Ingrese el porcentaje de descuento (ejemplo: 30 para 30%): \"))\n",
    "    if porcentaje_descuento > 0:\n",
    "        descuento = (porcentaje_descuento / 100) * precio_original\n",
    "        precio_final = precio_original - descuento\n",
    "        if precio_final < 0:\n",
    "            precio_final = 0\n",
    "    else:\n",
    "        precio_final = precio_original\n",
    "else:\n",
    "    precio_final = precio_original\n",
    "\n",
    "print(f\"Precio final: {precio_final:.2f}€\")\n"
   ]
  },
  {
   "cell_type": "markdown",
   "metadata": {},
   "source": [
    "Modifica el programa anterior agregando un límite al descuento, donde el descuento mínimo sea del 5% y el máximo del 50%. Si el usuario ingresa un porcentaje fuera de este rango, notifíquele y aplique el descuento mínimo o máximo según sea el caso."
   ]
  },
  {
   "cell_type": "code",
   "execution_count": 13,
   "metadata": {},
   "outputs": [
    {
     "name": "stdout",
     "output_type": "stream",
     "text": [
      "Porcentaje máximo a aplicar del 50%\n",
      "Precio final: 10.75€\n"
     ]
    }
   ],
   "source": [
    "precio_original = float(input(\"Ingrese el precio del artículo: \"))\n",
    "tiene_cupon = input(\"Tienes un cupón? (Si o No): \").lower()\n",
    "\n",
    "if tiene_cupon == \"si\":\n",
    "    porcentaje_descuento = float(input(\"Ingrese el porcentaje de descuento (ejemplo: 30 para 30%)(Min = 5%, Max = 50%): \"))\n",
    "    \n",
    "    if porcentaje_descuento < 5:\n",
    "        print(\"Porcentaje minimo a aplicar 5%\")\n",
    "        porcentaje_descuento = 5\n",
    "    elif porcentaje_descuento > 50:\n",
    "        print(\"Porcentaje máximo a aplicar 50%\")\n",
    "        porcentaje_descuento = 50\n",
    "    \n",
    "    descuento = (porcentaje_descuento / 100) * precio_original\n",
    "    precio_final = precio_original - descuento\n",
    "    if precio_final < 0:\n",
    "        precio_final = 0\n",
    "else:\n",
    "    precio_final = precio_original\n",
    "\n",
    "print(f\"Precio final: {precio_final:.2f}€\")\n"
   ]
  },
  {
   "cell_type": "markdown",
   "metadata": {},
   "source": [
    "Crea un programa nuevo que permita al usuario ingresar varios artículos, cada uno con su precio original y cupón de descuento. Aplica los descuentos correspondientes a cada producto y muestra el monto total final de la compra."
   ]
  },
  {
   "cell_type": "code",
   "execution_count": 1,
   "metadata": {},
   "outputs": [],
   "source": [
    "total = 0\n",
    "\n",
    "while True:\n",
    "    precio_original = float(input(\"Ingrese el precio del artículo (0 para finalizar): \"))\n",
    "    \n",
    "    if precio_original == 0:\n",
    "        break\n",
    "    \n",
    "    tiene_cupon = input(\"Tienes un cupón? (Si o No): \").lower()\n",
    "\n",
    "    if tiene_cupon == \"si\":\n",
    "        porcentaje_descuento = float(input(\"Ingrese el porcentaje de descuento (ejemplo: 30 para 30%)(Min = 5%, Max = 50%): \"))\n",
    "        \n",
    "        if porcentaje_descuento < 5:\n",
    "            print(\"El porcentaje ingresado es menor al 5%, se aplicará un descuento del 5%.\")\n",
    "            porcentaje_descuento = 5\n",
    "        elif porcentaje_descuento > 50:\n",
    "            print(\"El porcentaje ingresado es mayor al 50%, se aplicará un descuento del 50%.\")\n",
    "            porcentaje_descuento = 50\n",
    "            \n",
    "        descuento = (porcentaje_descuento / 100) * precio_original\n",
    "        precio_final = precio_original - descuento\n",
    "        if precio_final < 0:\n",
    "            precio_final = 0\n",
    "    else:\n",
    "        precio_final = precio_original\n",
    "\n",
    "    total += precio_final\n",
    "    print(f\"Precio final del artículo: {precio_final:.2f}€\")\n",
    "\n",
    "print(f\"Total de la compra: {total:.2f}€\")\n"
   ]
  },
  {
   "cell_type": "markdown",
   "metadata": {},
   "source": [
    "Crea un nuevo programa que permita aplicar descuentos por categorías. En este caso, nuestra tienda aplicará descuentos en función de la categoría (por ejemplo, electrónica, ropa, juguetes). Pregunta al usuario a que categoría pertenece su producto y aplica el descuento correspondiente a la categoría. Debes solicitar al usuario que ingrese la categoría del articulo y el precio para aplicarle el descuento. "
   ]
  },
  {
   "cell_type": "code",
   "execution_count": 6,
   "metadata": {},
   "outputs": [
    {
     "name": "stdout",
     "output_type": "stream",
     "text": [
      "Precio artículo 1 original 100.0€, descuento aplicado del 10%: 90.00€\n",
      "Total de la compra: 90.00€\n"
     ]
    }
   ],
   "source": [
    "total = 0\n",
    "contador_articulo = 0\n",
    "\n",
    "descuentos_por_categoria = {\n",
    "    \"electronica\": 5,  \n",
    "    \"ropa\": 10,\n",
    "    \"juguetes\": 20 \n",
    "}\n",
    "\n",
    "while True:\n",
    "    categoria = input(\"Ingrese la categoría del artículo (electronica, ropa o juguetes) o 'fin' para finalizar: \").lower()\n",
    "    \n",
    "    if categoria == 'fin':\n",
    "        break\n",
    "    \n",
    "    if categoria not in descuentos_por_categoria:\n",
    "        print(\"Categoría no válida. Intente nuevamente.\")\n",
    "        continue\n",
    "\n",
    "    contador_articulo += 1\n",
    "    \n",
    "    precio_original = float(input(\"Ingrese el precio del artículo: \"))\n",
    "    \n",
    "    descuento_categoria = descuentos_por_categoria[categoria]\n",
    "    descuento = (descuento_categoria / 100) * precio_original\n",
    "    precio_final = precio_original - descuento\n",
    "    \n",
    "    if precio_final < 0:\n",
    "        precio_final = 0\n",
    "\n",
    "    total += precio_final\n",
    "    print(f\"Precio artículo {contador_articulo} original {precio_original}€, descuento aplicado del {descuento:.0f}%: resultado {precio_final:.2f}€\")\n",
    "\n",
    "print(f\"Total de la compra: {total:.2f}€\")\n"
   ]
  },
  {
   "cell_type": "markdown",
   "metadata": {},
   "source": [
    "Crea un nuevo programa que aplique descuentos automáticos en función de la fecha actual. Aplica un descuento del 10% en compras realizadas entre lunes y viernes o un descuento del 15% en compras realizadas durante los fines de semana."
   ]
  },
  {
   "cell_type": "code",
   "execution_count": 7,
   "metadata": {},
   "outputs": [
    {
     "name": "stdout",
     "output_type": "stream",
     "text": [
      "Precio artículo 1 original 100.0€, descuento aplicado del 10%: resultado 90.00€\n",
      "Total de la compra: 90.00€\n"
     ]
    }
   ],
   "source": [
    "import datetime\n",
    "\n",
    "def obtener_descuento():\n",
    "    dia_semana = datetime.datetime.now().weekday()\n",
    "    return 0.10 if dia_semana < 5 else 0.15\n",
    "\n",
    "total = 0\n",
    "contador_articulo = 0\n",
    "\n",
    "while True:\n",
    "    categoria = input(\"Ingrese la categoría del artículo (electronica, ropa o juguetes) o 'fin' para finalizar: \").lower()\n",
    "    \n",
    "    if categoria == 'fin':\n",
    "        break\n",
    "\n",
    "    precio_original = float(input(\"Ingrese el precio del artículo: \"))\n",
    "    \n",
    "    descuento = obtener_descuento()\n",
    "    precio_final = precio_original - (descuento * precio_original)\n",
    "    \n",
    "    if precio_final < 0:\n",
    "        precio_final = 0\n",
    "\n",
    "    contador_articulo += 1\n",
    "    total += precio_final\n",
    "\n",
    "    print(f\"Precio artículo {contador_articulo} original {precio_original}€, descuento aplicado del {descuento*100:.0f}%: resultado {precio_final:.2f}€\")\n",
    "\n",
    "print(f\"Total de la compra: {total:.2f}€\")\n"
   ]
  },
  {
   "cell_type": "markdown",
   "metadata": {},
   "source": [
    "Crea un programa nuevo que implemente un sistema de membresía donde los usuarios registrados obtengan un descuento adicional del 5%. Solicita al usuario que ingrese su nombre de usuario y contraseña para verificar su membresía y aplique el descuento adicional si corresponde. \n",
    "\n",
    "📝 Nota: Para este ejercicio solo tendremos un usuario registrado. El usuario es `USUARIO` y la contraseña es  `USUARIO123`. \n"
   ]
  },
  {
   "cell_type": "code",
   "execution_count": 15,
   "metadata": {},
   "outputs": [
    {
     "name": "stdout",
     "output_type": "stream",
     "text": [
      "Precio original: 100.00€\n",
      "Descuento aplicado: 0%\n",
      "Usuario verificado: No\n",
      "Precio final: 100.00€\n"
     ]
    }
   ],
   "source": [
    "def verificar_membresia(usuario, contrasena):\n",
    "    return usuario == \"USUARIO\" and contrasena == \"USUARIO123\"\n",
    "\n",
    "precio_original = float(input(\"Ingrese el precio del artículo: \"))\n",
    "nombre_usuario = input(\"Ingrese su nombre de usuario: \")\n",
    "contrasena = input(\"Ingrese su contraseña: \")\n",
    "\n",
    "descuento_adicional = 0.05 if verificar_membresia(nombre_usuario, contrasena) else 0\n",
    "\n",
    "precio_final = precio_original - (descuento_adicional * precio_original)\n",
    "\n",
    "if precio_final < 0:\n",
    "    precio_final = 0\n",
    "\n",
    "print(f\"Precio original: {precio_original:.2f}€\")\n",
    "print(f\"{'Descuento aplicado: ' + str(descuento_adicional * 100) + '%'}\")\n",
    "print(f\"Usuario verificado: {'Sí' if descuento_adicional > 0 else 'No'}\")\n",
    "print(f\"Precio final: {precio_final:.2f}€\")\n"
   ]
  },
  {
   "cell_type": "markdown",
   "metadata": {},
   "source": [
    "Crea un nuevo programa que ofrezca un descuento del 10% adicional si el usuario compra más de 5 artículos del mismo tipo. Debes verificar la cantidad de productos comprados y aplicar el descuento adicional si corresponde.\n"
   ]
  },
  {
   "cell_type": "code",
   "execution_count": 26,
   "metadata": {},
   "outputs": [
    {
     "name": "stdout",
     "output_type": "stream",
     "text": [
      "Precio total de artículos: 160.00€\n",
      "Descuento adicional del 10% por cantidad: 16.00€\n",
      "Precio final: 144.00€\n",
      "-------------\n",
      "Total de la compra: 144.00€\n"
     ]
    }
   ],
   "source": [
    "total = 0\n",
    "\n",
    "while True:\n",
    "    categoria = input(\"Ingrese la categoría del artículo (electronica, ropa o juguetes) o 'fin' para finalizar: \").lower()\n",
    "    \n",
    "    if categoria == 'fin':\n",
    "        break\n",
    "    \n",
    "    cantidad_articulos = int(input(\"Ingrese la cantidad de artículos: \"))\n",
    "    precio_original_total = 0\n",
    "\n",
    "    for articulo in range(cantidad_articulos):\n",
    "        precio_original = float(input(f\"Ingrese el precio del artículo {articulo}: \"))\n",
    "        precio_original_total += precio_original\n",
    "\n",
    "    descuento = 0\n",
    "\n",
    "    if cantidad_articulos > 5:\n",
    "        descuento = 0.10 * precio_original_total\n",
    "\n",
    "    precio_final = precio_original_total - descuento\n",
    "    \n",
    "    if precio_final < 0:\n",
    "        precio_final = 0\n",
    "\n",
    "    total += precio_final\n",
    "\n",
    "    print(f\"Precio total de artículos: {precio_original_total:.2f}€\")\n",
    "    if descuento > 0:\n",
    "        print(f\"Descuento adicional del 10% por cantidad: {descuento:.2f}€\")\n",
    "    print(f\"Precio final: {precio_final:.2f}€\")\n",
    "    print(\"-------------\")\n",
    "\n",
    "print(f\"Total de la compra: {total:.2f}€\")\n"
   ]
  },
  {
   "cell_type": "markdown",
   "metadata": {},
   "source": [
    "Crea un nuevo programa que ofrezca descuentos progresivos en función del volumen de compra. Aplica un descuento del 5% para compras entre 100€ y 200€, un descuento del 10% para compras entre 200€ y 500€ y un descuento del 15% para compras superiores a 500€."
   ]
  },
  {
   "cell_type": "code",
   "execution_count": 27,
   "metadata": {},
   "outputs": [
    {
     "name": "stdout",
     "output_type": "stream",
     "text": [
      "\n",
      "Precio total de artículos: 229.00€\n",
      "Descuento aplicado del 10%.\n",
      "Precio final después del descuento: 206.10€\n",
      "-------------\n",
      "\n",
      "Precio total de artículos: 5012.00€\n",
      "Descuento aplicado del 15%.\n",
      "Precio final después del descuento: 4260.20€\n",
      "-------------\n",
      "Total de la compra: 4466.30€\n"
     ]
    }
   ],
   "source": [
    "def calcular_descuento(total_compra):\n",
    "    if 100 <= total_compra < 200:\n",
    "        return 0.05\n",
    "    elif 200 <= total_compra < 500:\n",
    "        return 0.10\n",
    "    elif total_compra >= 500:\n",
    "        return 0.15\n",
    "    else:\n",
    "        return 0\n",
    "\n",
    "total = 0\n",
    "\n",
    "while True:\n",
    "    try:\n",
    "        cantidad_articulos = int(input(\"Ingrese la cantidad de artículos (0 para finalizar): \"))\n",
    "        if cantidad_articulos == 0:\n",
    "            break\n",
    "\n",
    "        precios = []\n",
    "        for articulo in range(cantidad_articulos):\n",
    "            precio = float(input(f\"Ingrese el precio del artículo {articulo + 1}: \"))\n",
    "            precios.append(precio)\n",
    "\n",
    "        total_compra = sum(precios)\n",
    "        descuento = calcular_descuento(total_compra)\n",
    "        total_final = total_compra - (descuento * total_compra)\n",
    "\n",
    "        if total_final < 0:\n",
    "            total_final = 0\n",
    "\n",
    "        total += total_final\n",
    "\n",
    "        print(f\"Precio total de artículos: {total_compra:.2f}€\")\n",
    "        if descuento > 0:\n",
    "            print(f\"Descuento aplicado del {descuento * 100:.0f}%.\")\n",
    "        print(f\"Precio final después del descuento: {total_final:.2f}€\")\n",
    "        print(\"-------------\")\n",
    "\n",
    "    except ValueError:\n",
    "        print(\"Entrada no válida. Por favor, ingrese números válidos.\")\n",
    "\n",
    "print(f\"Total de la compra: {total:.2f}€\")\n"
   ]
  },
  {
   "cell_type": "markdown",
   "metadata": {},
   "source": [
    "Crea un nuevo programa  que ofrezca un descuento adicional del 3% si el usuario paga con tarjeta de crédito o débito. Solicita al usuario que ingrese el método de pago y el descuento original, por último aplica el descuento si corresponde."
   ]
  },
  {
   "cell_type": "code",
   "execution_count": 33,
   "metadata": {},
   "outputs": [
    {
     "name": "stdout",
     "output_type": "stream",
     "text": [
      "Precio original: 100.00€\n",
      "Descuento no aplicado\n",
      "Precio final: 100.00€\n",
      "-------------\n"
     ]
    }
   ],
   "source": [
    "payment_options = [\"credito\", \"debito\"]\n",
    "\n",
    "def calcular_descuento_adicional(metodo_pago):\n",
    "    return 0.03 if metodo_pago in payment_options else 0\n",
    "\n",
    "while True:\n",
    "    try:\n",
    "        precio_original = float(input(\"Ingrese el precio del artículo (0 para finalizar): \"))\n",
    "        \n",
    "        if precio_original == 0:\n",
    "            break\n",
    "\n",
    "        metodo_pago = input(\"Ingrese el método de pago (credito o debito): \").lower()\n",
    "\n",
    "        descuento_total = calcular_descuento_adicional(metodo_pago)\n",
    "        precio_final = precio_original * (1 - descuento_total)\n",
    "\n",
    "        if precio_final < 0:\n",
    "            precio_final = 0\n",
    "\n",
    "        print(f\"Precio original: {precio_original:.2f}€\")\n",
    "        if descuento_total > 0:\n",
    "            print(f\"Descuento aplicado: {descuento_total * 100:.0f}%\")\n",
    "        else:\n",
    "            print(\"Descuento no aplicado\")  \n",
    "        print(f\"Precio final: {precio_final:.2f}€\")\n",
    "        print(\"-------------\")\n",
    "\n",
    "    except ValueError:\n",
    "        print(\"Entrada no válida. Por favor, ingrese números válidos.\")\n",
    "\n"
   ]
  }
 ],
 "metadata": {
  "kernelspec": {
   "display_name": "Python 3",
   "language": "python",
   "name": "python3"
  },
  "language_info": {
   "codemirror_mode": {
    "name": "ipython",
    "version": 3
   },
   "file_extension": ".py",
   "mimetype": "text/x-python",
   "name": "python",
   "nbconvert_exporter": "python",
   "pygments_lexer": "ipython3",
   "version": "3.12.4"
  }
 },
 "nbformat": 4,
 "nbformat_minor": 2
}
