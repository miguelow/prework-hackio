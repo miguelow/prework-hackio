{
 "cells": [
  {
   "cell_type": "markdown",
   "metadata": {},
   "source": [
    "<div style=\"text-align: center;\">\n",
    "  <img src=\"https://github.com/Hack-io-Data/Imagenes/blob/main/01-LogosHackio/logo_celeste@4x.png?raw=true\" alt=\"esquema\" />\n",
    "</div>\n"
   ]
  },
  {
   "cell_type": "markdown",
   "metadata": {},
   "source": [
    "En este ejercicio, se te pedirá que escribas un programa en Python que utilice condicionales para determinar el monto final de una compra en una tienda en línea, después de aplicar un descuento. El programa debe hacer lo siguiente:\n",
    "\n",
    "1. Solicita al usuario que ingrese el precio original de un artículo.\n",
    "\n",
    "2. Pregunta al usuario si tiene un cupón de descuento (respuesta sí o no).\n",
    "\n",
    "3. Si el usuario responde que sí, solicita que ingrese el valor del cupón de descuento.\n",
    "\n",
    "4. Aplica el descuento al precio original del artículo, siempre y cuando el valor del cupón sea válido (es decir, mayor a cero). Por ejemplo, descuento de 15€. \n",
    "\n",
    "5. Muestra el precio final de la compra, teniendo en cuenta el descuento aplicado o sin él. \n",
    "\n",
    "6. Recuerda utilizar estructuras de control de flujo como if, elif y else para llevar a cabo estas acciones en tu programa de Python."
   ]
  },
  {
   "cell_type": "code",
   "execution_count": 11,
   "metadata": {},
   "outputs": [
    {
     "name": "stdout",
     "output_type": "stream",
     "text": [
      "Precio final: 0.9899999999999984€\n"
     ]
    }
   ],
   "source": [
    "precio_original = float(input(\"Ingrese el precio del artículo: \"))\n",
    "tiene_cupon = input(\"¿Tiene un cupón? (Si o No): \").lower()\n",
    "\n",
    "if tiene_cupon == \"si\":\n",
    "    valor_cupon = float(input(\"Ingrese el valor del cupón: \"))\n",
    "    if valor_cupon > 0:\n",
    "        precio_final = precio_original - valor_cupon\n",
    "        if precio_final < 0:\n",
    "            precio_final = 0\n",
    "    else:\n",
    "        precio_final = precio_original\n",
    "else:\n",
    "    precio_final = precio_original\n",
    "\n",
    "print(f\"Precio final: {precio_final:.2f}€\")\n"
   ]
  },
  {
   "cell_type": "markdown",
   "metadata": {},
   "source": [
    "Modifica el programa anterior para que el usuario ingrese un porcentaje de descuento en lugar de un valor fijo (por ejemplo, 30%). Aplica el descuento en base al porcentaje ingresado."
   ]
  },
  {
   "cell_type": "code",
   "execution_count": 12,
   "metadata": {},
   "outputs": [
    {
     "name": "stdout",
     "output_type": "stream",
     "text": [
      "Precio final: 15.05€\n"
     ]
    }
   ],
   "source": [
    "precio_original = float(input(\"Ingrese el precio del artículo: \"))\n",
    "tiene_cupon = input(\"¿Tiene un cupón? (Si o No): \").lower()\n",
    "\n",
    "if tiene_cupon == \"si\":\n",
    "    porcentaje_descuento = float(input(\"Ingrese el porcentaje de descuento (ejemplo: 30 para 30%): \"))\n",
    "    if porcentaje_descuento > 0:\n",
    "        descuento = (porcentaje_descuento / 100) * precio_original\n",
    "        precio_final = precio_original - descuento\n",
    "        if precio_final < 0:\n",
    "            precio_final = 0\n",
    "    else:\n",
    "        precio_final = precio_original\n",
    "else:\n",
    "    precio_final = precio_original\n",
    "\n",
    "print(f\"Precio final: {precio_final:.2f}€\")\n"
   ]
  },
  {
   "cell_type": "markdown",
   "metadata": {},
   "source": [
    "Modifica el programa anterior agregando un límite al descuento, donde el descuento mínimo sea del 5% y el máximo del 50%. Si el usuario ingresa un porcentaje fuera de este rango, notifíquele y aplique el descuento mínimo o máximo según sea el caso."
   ]
  },
  {
   "cell_type": "code",
   "execution_count": 13,
   "metadata": {},
   "outputs": [
    {
     "name": "stdout",
     "output_type": "stream",
     "text": [
      "Porcentaje máximo a aplicar del 50%\n",
      "Precio final: 10.75€\n"
     ]
    }
   ],
   "source": [
    "precio_original = float(input(\"Ingrese el precio del artículo: \"))\n",
    "tiene_cupon = input(\"¿Tiene un cupón? (Si o No): \").lower()\n",
    "\n",
    "if tiene_cupon == \"si\":\n",
    "    porcentaje_descuento = float(input(\"Ingrese el porcentaje de descuento (ejemplo: 30 para 30%)(Min = 5%, Max = 50%): \"))\n",
    "    \n",
    "    if porcentaje_descuento < 5:\n",
    "        print(\"Porcentaje minimo a aplicar 5%\")\n",
    "        porcentaje_descuento = 5\n",
    "    elif porcentaje_descuento > 50:\n",
    "        print(\"Porcentaje máximo a aplicar 50%\")\n",
    "        porcentaje_descuento = 50\n",
    "    \n",
    "    descuento = (porcentaje_descuento / 100) * precio_original\n",
    "    precio_final = precio_original - descuento\n",
    "    if precio_final < 0:\n",
    "        precio_final = 0\n",
    "else:\n",
    "    precio_final = precio_original\n",
    "\n",
    "print(f\"Precio final: {precio_final:.2f}€\")\n"
   ]
  },
  {
   "cell_type": "markdown",
   "metadata": {},
   "source": [
    "Crea un programa nuevo que permita al usuario ingresar varios artículos, cada uno con su precio original y cupón de descuento. Aplica los descuentos correspondientes a cada producto y muestra el monto total final de la compra."
   ]
  },
  {
   "cell_type": "code",
   "execution_count": 15,
   "metadata": {},
   "outputs": [
    {
     "name": "stdout",
     "output_type": "stream",
     "text": [
      "Precio final del artículo: 16.80€\n",
      "El porcentaje ingresado es menor al 5%, se aplicará un descuento del 5%.\n",
      "Precio final del artículo: 9.50€\n",
      "Precio final del artículo: 26.40€\n",
      "Total de la compra: 52.70€\n"
     ]
    }
   ],
   "source": [
    "total = 0\n",
    "\n",
    "while True:\n",
    "    precio_original = float(input(\"Ingrese el precio del artículo (o 0 para finalizar): \"))\n",
    "    \n",
    "    if precio_original == 0:\n",
    "        break\n",
    "    \n",
    "    tiene_cupon = input(\"¿Tiene un cupón? (Si o No): \").lower()\n",
    "\n",
    "    if tiene_cupon == \"si\":\n",
    "        porcentaje_descuento = float(input(\"Ingrese el porcentaje de descuento (ejemplo: 30 para 30%)(Min = 5%, Max = 50%): \"))\n",
    "        \n",
    "        if porcentaje_descuento < 5:\n",
    "            print(\"El porcentaje ingresado es menor al 5%, se aplicará un descuento del 5%.\")\n",
    "            porcentaje_descuento = 5\n",
    "        elif porcentaje_descuento > 50:\n",
    "            print(\"El porcentaje ingresado es mayor al 50%, se aplicará un descuento del 50%.\")\n",
    "            porcentaje_descuento = 50\n",
    "            \n",
    "        descuento = (porcentaje_descuento / 100) * precio_original\n",
    "        precio_final = precio_original - descuento\n",
    "        if precio_final < 0:\n",
    "            precio_final = 0\n",
    "    else:\n",
    "        precio_final = precio_original\n",
    "\n",
    "    total += precio_final\n",
    "    print(f\"Precio final del artículo: {precio_final:.2f}€\")\n",
    "\n",
    "print(f\"Total de la compra: {total:.2f}€\")\n"
   ]
  },
  {
   "cell_type": "markdown",
   "metadata": {},
   "source": [
    "Crea un nuevo programa que permita aplicar descuentos por categorías. En este caso, nuestra tienda aplicará descuentos en función de la categoría (por ejemplo, electrónica, ropa, juguetes). Pregunta al usuario a que categoría pertenece su producto y aplica el descuento correspondiente a la categoría. Debes solicitar al usuario que ingrese la categoría del articulo y el precio para aplicarle el descuento. "
   ]
  },
  {
   "cell_type": "code",
   "execution_count": null,
   "metadata": {},
   "outputs": [],
   "source": []
  },
  {
   "cell_type": "code",
   "execution_count": null,
   "metadata": {},
   "outputs": [],
   "source": []
  },
  {
   "cell_type": "markdown",
   "metadata": {},
   "source": [
    "Crea un nuevo programa que aplique descuentos automáticos en función de la fecha actual. Aplica un descuento del 10% en compras realizadas entre lunes y viernes o un descuento del 15% en compras realizadas durante los fines de semana."
   ]
  },
  {
   "cell_type": "code",
   "execution_count": null,
   "metadata": {},
   "outputs": [],
   "source": []
  },
  {
   "cell_type": "markdown",
   "metadata": {},
   "source": [
    "Crea un programa nuevo que implemente un sistema de membresía donde los usuarios registrados obtengan un descuento adicional del 5%. Solicita al usuario que ingrese su nombre de usuario y contraseña para verificar su membresía y aplique el descuento adicional si corresponde. \n",
    "\n",
    "📝 Nota: Para este ejercicio solo tendremos un usuario registrado. El usuario es `USUARIO` y la contraseña es  `USUARIO123`. \n"
   ]
  },
  {
   "cell_type": "code",
   "execution_count": null,
   "metadata": {},
   "outputs": [],
   "source": []
  },
  {
   "cell_type": "markdown",
   "metadata": {},
   "source": [
    "Crea un nuevo programa que ofrezca un descuento del 10% adicional si el usuario compra más de 5 artículos del mismo tipo. Debes verificar la cantidad de productos comprados y aplicar el descuento adicional si corresponde.\n"
   ]
  },
  {
   "cell_type": "code",
   "execution_count": null,
   "metadata": {},
   "outputs": [],
   "source": []
  },
  {
   "cell_type": "markdown",
   "metadata": {},
   "source": [
    "Crea un nuevo programa que ofrezca descuentos progresivos en función del volumen de compra. Aplica un descuento del 5% para compras entre 100€ y 200€, un descuento del 10% para compras entre 200€ y 500€ y un descuento del 15% para compras superiores a 500€."
   ]
  },
  {
   "cell_type": "code",
   "execution_count": null,
   "metadata": {},
   "outputs": [],
   "source": []
  },
  {
   "cell_type": "markdown",
   "metadata": {},
   "source": [
    "Crea un nuevo programa  que ofrezca un descuento adicional del 3% si el usuario paga con tarjeta de crédito o débito. Solicita al usuario que ingrese el método de pago y el descuento original, por último aplica el descuento si corresponde."
   ]
  },
  {
   "cell_type": "code",
   "execution_count": null,
   "metadata": {},
   "outputs": [],
   "source": []
  }
 ],
 "metadata": {
  "kernelspec": {
   "display_name": "hackio",
   "language": "python",
   "name": "python3"
  },
  "language_info": {
   "codemirror_mode": {
    "name": "ipython",
    "version": 3
   },
   "file_extension": ".py",
   "mimetype": "text/x-python",
   "name": "python",
   "nbconvert_exporter": "python",
   "pygments_lexer": "ipython3",
   "version": "3.12.4"
  }
 },
 "nbformat": 4,
 "nbformat_minor": 2
}
