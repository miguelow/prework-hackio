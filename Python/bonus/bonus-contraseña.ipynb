{
 "cells": [
  {
   "cell_type": "markdown",
   "metadata": {},
   "source": [
    "<div style=\"text-align: center;\">\n",
    "  <img src=\"https://github.com/Hack-io-Data/Imagenes/blob/main/01-LogosHackio/logo_celeste@4x.png?raw=true\" alt=\"esquema\" />\n",
    "</div>\n"
   ]
  },
  {
   "cell_type": "markdown",
   "metadata": {},
   "source": [
    "# Comprobación de calidad de contraseñas\n",
    "\n",
    "En este ejercicio, tendrás que generar un programa que sea capaz de comprobar la calidad de contraseñas. La seguridad de nuestras contraseñas es fundamental para proteger nuestra información personal y evitar posibles ataques cibernéticos. Para ello, vamos a crear una función llamada `verificar_seguridad_contrasena` que evaluará la calidad de una contraseña. Esta función tomará como argumento la contraseña a evaluar y devolverá si la contraseña es segura o no basado en los siguientes criterios:\n",
    "\n",
    "1. La contraseña deberá tener al menos 8 caracteres.\n",
    "\n",
    "2. La contraseña deberá tener al menos una letra mayúscula.\n",
    "\n",
    "3. La contraseña deberá tener al menos una letra minúscula. \n",
    "\n",
    "4. La contraseña deberá tener al menos un número. \n",
    "\n",
    "5. La contraseña deberá tener al menos un caracter especial. \n",
    "\n",
    "6. La contraseña no deberá tener espacios en blanco. \n",
    "\n",
    "7. La contraseña no deberá tener caracteres repetidos. \n"
   ]
  },
  {
   "cell_type": "code",
   "execution_count": 11,
   "metadata": {},
   "outputs": [
    {
     "name": "stdout",
     "output_type": "stream",
     "text": [
      "La contraseña es segura\n",
      "La contraseña debe tener al menos 8 caracteres\n",
      "La contraseña debe tener al menos una letra mayuscula\n",
      "La contraseña debe tener al menos una letra minuscula\n",
      "La contraseña debe tener al menos un número\n",
      "La contraseña no admite espacios en blanco\n",
      "La contraseña no admite caracteres repetidos\n"
     ]
    }
   ],
   "source": [
    "import string\n",
    "\n",
    "def verificar_seguridad_contrasena(contrasena):\n",
    "    if len(contrasena) < 8:\n",
    "        return \"La contraseña debe tener al menos 8 caracteres\"\n",
    "    \n",
    "    if not any(c.isupper() for c in contrasena):\n",
    "        return \"La contraseña debe tener al menos una letra mayuscula\"\n",
    "    \n",
    "    if not any(c.islower() for c in contrasena):\n",
    "        return \"La contraseña debe tener al menos una letra minuscula\"\n",
    "    \n",
    "    if not any(c.isdigit() for c in contrasena):\n",
    "        return \"La contraseña debe tener al menos un número\"\n",
    "    \n",
    "    if not any(c in string.punctuation for c in contrasena):\n",
    "        return \"La contraseña debe tener al menos un carácter especial\"\n",
    "    \n",
    "    if ' ' in contrasena:\n",
    "        return \"La contraseña no admite espacios en blanco\"\n",
    "    \n",
    "    if len(contrasena) != len(set(contrasena)):\n",
    "        return \"La contraseña no admite caracteres repetidos\"\n",
    "    \n",
    "    return \"La contraseña es segura\"\n",
    "\n",
    "print(verificar_seguridad_contrasena(\"Pasword123!\")) \n",
    "print(verificar_seguridad_contrasena(\"abc123\")) \n",
    "print(verificar_seguridad_contrasena(\"pasword123!\"))\n",
    "print(verificar_seguridad_contrasena(\"PASWORD123!\"))\n",
    "print(verificar_seguridad_contrasena(\"Pasword!\"))\n",
    "print(verificar_seguridad_contrasena(\"Pasword 123!\"))\n",
    "print(verificar_seguridad_contrasena(\"Passwrd!!123\"))\n"
   ]
  }
 ],
 "metadata": {
  "kernelspec": {
   "display_name": "hackio",
   "language": "python",
   "name": "python3"
  },
  "language_info": {
   "codemirror_mode": {
    "name": "ipython",
    "version": 3
   },
   "file_extension": ".py",
   "mimetype": "text/x-python",
   "name": "python",
   "nbconvert_exporter": "python",
   "pygments_lexer": "ipython3",
   "version": "3.12.4"
  }
 },
 "nbformat": 4,
 "nbformat_minor": 2
}
